{
  "nbformat": 4,
  "nbformat_minor": 0,
  "metadata": {
    "colab": {
      "provenance": [],
      "authorship_tag": "ABX9TyMtTCvXDjt6GbBXTnAEpPwn",
      "include_colab_link": true
    },
    "kernelspec": {
      "name": "python3",
      "display_name": "Python 3"
    },
    "language_info": {
      "name": "python"
    }
  },
  "cells": [
    {
      "cell_type": "markdown",
      "metadata": {
        "id": "view-in-github",
        "colab_type": "text"
      },
      "source": [
        "<a href=\"https://colab.research.google.com/github/Akansha452001/local-Repo/blob/main/Untitled1.ipynb\" target=\"_parent\"><img src=\"https://colab.research.google.com/assets/colab-badge.svg\" alt=\"Open In Colab\"/></a>"
      ]
    },
    {
      "cell_type": "code",
      "execution_count": 17,
      "metadata": {
        "id": "kZbKD7uHxhN-"
      },
      "outputs": [],
      "source": [
        " import pandas as pd\n",
        " import numpy as np\n",
        " from sklearn.feature_extraction.text import TfidfVectorizer\n",
        " from sklearn.metrics.pairwise import cosine_similarity\n",
        " from nltk.corpus import stopwords\n",
        " from nltk.stem import WordNetLemmatizer, PorterStemmer\n",
        " from nltk.tokenize import word_tokenize\n",
        " import nltk\n",
        " import re"
      ]
    },
    {
      "cell_type": "code",
      "source": [
        "dataset = pd.read_csv('email_spam.csv')"
      ],
      "metadata": {
        "id": "lufJoTtMSTAh"
      },
      "execution_count": 2,
      "outputs": []
    },
    {
      "cell_type": "code",
      "source": [
        "dataset.head()"
      ],
      "metadata": {
        "id": "CV7VPgteSaw3",
        "outputId": "b41792a9-f3da-4379-947d-11cc6893a19b",
        "colab": {
          "base_uri": "https://localhost:8080/",
          "height": 206
        }
      },
      "execution_count": 3,
      "outputs": [
        {
          "output_type": "execute_result",
          "data": {
            "text/plain": [
              "                                               title  \\\n",
              "0                          ?? the secrets to SUCCESS   \n",
              "1                    ?? You Earned 500 GCLoot Points   \n",
              "2                         ?? Your GitHub launch code   \n",
              "3  [The Virtual Reward Center] Re: ** Clarifications   \n",
              "4  10-1 MLB Expert Inside, Plus Everything You Ne...   \n",
              "\n",
              "                                                text      type  \n",
              "0  Hi James,\\n\\nHave you claim your complimentary...      spam  \n",
              "1  \\nalt_text\\nCongratulations, you just earned\\n...  not spam  \n",
              "2  Here's your GitHub launch code, @Mortyj420!\\n ...  not spam  \n",
              "3  Hello,\\n \\nThank you for contacting the Virtua...  not spam  \n",
              "4  Hey Prachanda Rawal,\\n\\nToday's newsletter is ...      spam  "
            ],
            "text/html": [
              "\n",
              "  <div id=\"df-2a09a523-c088-42a0-91f4-9e26a14fd4a5\" class=\"colab-df-container\">\n",
              "    <div>\n",
              "<style scoped>\n",
              "    .dataframe tbody tr th:only-of-type {\n",
              "        vertical-align: middle;\n",
              "    }\n",
              "\n",
              "    .dataframe tbody tr th {\n",
              "        vertical-align: top;\n",
              "    }\n",
              "\n",
              "    .dataframe thead th {\n",
              "        text-align: right;\n",
              "    }\n",
              "</style>\n",
              "<table border=\"1\" class=\"dataframe\">\n",
              "  <thead>\n",
              "    <tr style=\"text-align: right;\">\n",
              "      <th></th>\n",
              "      <th>title</th>\n",
              "      <th>text</th>\n",
              "      <th>type</th>\n",
              "    </tr>\n",
              "  </thead>\n",
              "  <tbody>\n",
              "    <tr>\n",
              "      <th>0</th>\n",
              "      <td>?? the secrets to SUCCESS</td>\n",
              "      <td>Hi James,\\n\\nHave you claim your complimentary...</td>\n",
              "      <td>spam</td>\n",
              "    </tr>\n",
              "    <tr>\n",
              "      <th>1</th>\n",
              "      <td>?? You Earned 500 GCLoot Points</td>\n",
              "      <td>\\nalt_text\\nCongratulations, you just earned\\n...</td>\n",
              "      <td>not spam</td>\n",
              "    </tr>\n",
              "    <tr>\n",
              "      <th>2</th>\n",
              "      <td>?? Your GitHub launch code</td>\n",
              "      <td>Here's your GitHub launch code, @Mortyj420!\\n ...</td>\n",
              "      <td>not spam</td>\n",
              "    </tr>\n",
              "    <tr>\n",
              "      <th>3</th>\n",
              "      <td>[The Virtual Reward Center] Re: ** Clarifications</td>\n",
              "      <td>Hello,\\n \\nThank you for contacting the Virtua...</td>\n",
              "      <td>not spam</td>\n",
              "    </tr>\n",
              "    <tr>\n",
              "      <th>4</th>\n",
              "      <td>10-1 MLB Expert Inside, Plus Everything You Ne...</td>\n",
              "      <td>Hey Prachanda Rawal,\\n\\nToday's newsletter is ...</td>\n",
              "      <td>spam</td>\n",
              "    </tr>\n",
              "  </tbody>\n",
              "</table>\n",
              "</div>\n",
              "    <div class=\"colab-df-buttons\">\n",
              "\n",
              "  <div class=\"colab-df-container\">\n",
              "    <button class=\"colab-df-convert\" onclick=\"convertToInteractive('df-2a09a523-c088-42a0-91f4-9e26a14fd4a5')\"\n",
              "            title=\"Convert this dataframe to an interactive table.\"\n",
              "            style=\"display:none;\">\n",
              "\n",
              "  <svg xmlns=\"http://www.w3.org/2000/svg\" height=\"24px\" viewBox=\"0 -960 960 960\">\n",
              "    <path d=\"M120-120v-720h720v720H120Zm60-500h600v-160H180v160Zm220 220h160v-160H400v160Zm0 220h160v-160H400v160ZM180-400h160v-160H180v160Zm440 0h160v-160H620v160ZM180-180h160v-160H180v160Zm440 0h160v-160H620v160Z\"/>\n",
              "  </svg>\n",
              "    </button>\n",
              "\n",
              "  <style>\n",
              "    .colab-df-container {\n",
              "      display:flex;\n",
              "      gap: 12px;\n",
              "    }\n",
              "\n",
              "    .colab-df-convert {\n",
              "      background-color: #E8F0FE;\n",
              "      border: none;\n",
              "      border-radius: 50%;\n",
              "      cursor: pointer;\n",
              "      display: none;\n",
              "      fill: #1967D2;\n",
              "      height: 32px;\n",
              "      padding: 0 0 0 0;\n",
              "      width: 32px;\n",
              "    }\n",
              "\n",
              "    .colab-df-convert:hover {\n",
              "      background-color: #E2EBFA;\n",
              "      box-shadow: 0px 1px 2px rgba(60, 64, 67, 0.3), 0px 1px 3px 1px rgba(60, 64, 67, 0.15);\n",
              "      fill: #174EA6;\n",
              "    }\n",
              "\n",
              "    .colab-df-buttons div {\n",
              "      margin-bottom: 4px;\n",
              "    }\n",
              "\n",
              "    [theme=dark] .colab-df-convert {\n",
              "      background-color: #3B4455;\n",
              "      fill: #D2E3FC;\n",
              "    }\n",
              "\n",
              "    [theme=dark] .colab-df-convert:hover {\n",
              "      background-color: #434B5C;\n",
              "      box-shadow: 0px 1px 3px 1px rgba(0, 0, 0, 0.15);\n",
              "      filter: drop-shadow(0px 1px 2px rgba(0, 0, 0, 0.3));\n",
              "      fill: #FFFFFF;\n",
              "    }\n",
              "  </style>\n",
              "\n",
              "    <script>\n",
              "      const buttonEl =\n",
              "        document.querySelector('#df-2a09a523-c088-42a0-91f4-9e26a14fd4a5 button.colab-df-convert');\n",
              "      buttonEl.style.display =\n",
              "        google.colab.kernel.accessAllowed ? 'block' : 'none';\n",
              "\n",
              "      async function convertToInteractive(key) {\n",
              "        const element = document.querySelector('#df-2a09a523-c088-42a0-91f4-9e26a14fd4a5');\n",
              "        const dataTable =\n",
              "          await google.colab.kernel.invokeFunction('convertToInteractive',\n",
              "                                                    [key], {});\n",
              "        if (!dataTable) return;\n",
              "\n",
              "        const docLinkHtml = 'Like what you see? Visit the ' +\n",
              "          '<a target=\"_blank\" href=https://colab.research.google.com/notebooks/data_table.ipynb>data table notebook</a>'\n",
              "          + ' to learn more about interactive tables.';\n",
              "        element.innerHTML = '';\n",
              "        dataTable['output_type'] = 'display_data';\n",
              "        await google.colab.output.renderOutput(dataTable, element);\n",
              "        const docLink = document.createElement('div');\n",
              "        docLink.innerHTML = docLinkHtml;\n",
              "        element.appendChild(docLink);\n",
              "      }\n",
              "    </script>\n",
              "  </div>\n",
              "\n",
              "\n",
              "<div id=\"df-08f3fa57-8d2e-49ee-acd1-cc3da1c5e4c8\">\n",
              "  <button class=\"colab-df-quickchart\" onclick=\"quickchart('df-08f3fa57-8d2e-49ee-acd1-cc3da1c5e4c8')\"\n",
              "            title=\"Suggest charts\"\n",
              "            style=\"display:none;\">\n",
              "\n",
              "<svg xmlns=\"http://www.w3.org/2000/svg\" height=\"24px\"viewBox=\"0 0 24 24\"\n",
              "     width=\"24px\">\n",
              "    <g>\n",
              "        <path d=\"M19 3H5c-1.1 0-2 .9-2 2v14c0 1.1.9 2 2 2h14c1.1 0 2-.9 2-2V5c0-1.1-.9-2-2-2zM9 17H7v-7h2v7zm4 0h-2V7h2v10zm4 0h-2v-4h2v4z\"/>\n",
              "    </g>\n",
              "</svg>\n",
              "  </button>\n",
              "\n",
              "<style>\n",
              "  .colab-df-quickchart {\n",
              "      --bg-color: #E8F0FE;\n",
              "      --fill-color: #1967D2;\n",
              "      --hover-bg-color: #E2EBFA;\n",
              "      --hover-fill-color: #174EA6;\n",
              "      --disabled-fill-color: #AAA;\n",
              "      --disabled-bg-color: #DDD;\n",
              "  }\n",
              "\n",
              "  [theme=dark] .colab-df-quickchart {\n",
              "      --bg-color: #3B4455;\n",
              "      --fill-color: #D2E3FC;\n",
              "      --hover-bg-color: #434B5C;\n",
              "      --hover-fill-color: #FFFFFF;\n",
              "      --disabled-bg-color: #3B4455;\n",
              "      --disabled-fill-color: #666;\n",
              "  }\n",
              "\n",
              "  .colab-df-quickchart {\n",
              "    background-color: var(--bg-color);\n",
              "    border: none;\n",
              "    border-radius: 50%;\n",
              "    cursor: pointer;\n",
              "    display: none;\n",
              "    fill: var(--fill-color);\n",
              "    height: 32px;\n",
              "    padding: 0;\n",
              "    width: 32px;\n",
              "  }\n",
              "\n",
              "  .colab-df-quickchart:hover {\n",
              "    background-color: var(--hover-bg-color);\n",
              "    box-shadow: 0 1px 2px rgba(60, 64, 67, 0.3), 0 1px 3px 1px rgba(60, 64, 67, 0.15);\n",
              "    fill: var(--button-hover-fill-color);\n",
              "  }\n",
              "\n",
              "  .colab-df-quickchart-complete:disabled,\n",
              "  .colab-df-quickchart-complete:disabled:hover {\n",
              "    background-color: var(--disabled-bg-color);\n",
              "    fill: var(--disabled-fill-color);\n",
              "    box-shadow: none;\n",
              "  }\n",
              "\n",
              "  .colab-df-spinner {\n",
              "    border: 2px solid var(--fill-color);\n",
              "    border-color: transparent;\n",
              "    border-bottom-color: var(--fill-color);\n",
              "    animation:\n",
              "      spin 1s steps(1) infinite;\n",
              "  }\n",
              "\n",
              "  @keyframes spin {\n",
              "    0% {\n",
              "      border-color: transparent;\n",
              "      border-bottom-color: var(--fill-color);\n",
              "      border-left-color: var(--fill-color);\n",
              "    }\n",
              "    20% {\n",
              "      border-color: transparent;\n",
              "      border-left-color: var(--fill-color);\n",
              "      border-top-color: var(--fill-color);\n",
              "    }\n",
              "    30% {\n",
              "      border-color: transparent;\n",
              "      border-left-color: var(--fill-color);\n",
              "      border-top-color: var(--fill-color);\n",
              "      border-right-color: var(--fill-color);\n",
              "    }\n",
              "    40% {\n",
              "      border-color: transparent;\n",
              "      border-right-color: var(--fill-color);\n",
              "      border-top-color: var(--fill-color);\n",
              "    }\n",
              "    60% {\n",
              "      border-color: transparent;\n",
              "      border-right-color: var(--fill-color);\n",
              "    }\n",
              "    80% {\n",
              "      border-color: transparent;\n",
              "      border-right-color: var(--fill-color);\n",
              "      border-bottom-color: var(--fill-color);\n",
              "    }\n",
              "    90% {\n",
              "      border-color: transparent;\n",
              "      border-bottom-color: var(--fill-color);\n",
              "    }\n",
              "  }\n",
              "</style>\n",
              "\n",
              "  <script>\n",
              "    async function quickchart(key) {\n",
              "      const quickchartButtonEl =\n",
              "        document.querySelector('#' + key + ' button');\n",
              "      quickchartButtonEl.disabled = true;  // To prevent multiple clicks.\n",
              "      quickchartButtonEl.classList.add('colab-df-spinner');\n",
              "      try {\n",
              "        const charts = await google.colab.kernel.invokeFunction(\n",
              "            'suggestCharts', [key], {});\n",
              "      } catch (error) {\n",
              "        console.error('Error during call to suggestCharts:', error);\n",
              "      }\n",
              "      quickchartButtonEl.classList.remove('colab-df-spinner');\n",
              "      quickchartButtonEl.classList.add('colab-df-quickchart-complete');\n",
              "    }\n",
              "    (() => {\n",
              "      let quickchartButtonEl =\n",
              "        document.querySelector('#df-08f3fa57-8d2e-49ee-acd1-cc3da1c5e4c8 button');\n",
              "      quickchartButtonEl.style.display =\n",
              "        google.colab.kernel.accessAllowed ? 'block' : 'none';\n",
              "    })();\n",
              "  </script>\n",
              "</div>\n",
              "\n",
              "    </div>\n",
              "  </div>\n"
            ],
            "application/vnd.google.colaboratory.intrinsic+json": {
              "type": "dataframe",
              "variable_name": "dataset",
              "summary": "{\n  \"name\": \"dataset\",\n  \"rows\": 84,\n  \"fields\": [\n    {\n      \"column\": \"title\",\n      \"properties\": {\n        \"dtype\": \"string\",\n        \"num_unique_values\": 78,\n        \"samples\": [\n          \"Limited offer. Hurry up!\",\n          \"?? the secrets to SUCCESS\",\n          \"Linton, take the next step on your Windows device by confirming your Google Account settings\"\n        ],\n        \"semantic_type\": \"\",\n        \"description\": \"\"\n      }\n    },\n    {\n      \"column\": \"text\",\n      \"properties\": {\n        \"dtype\": \"string\",\n        \"num_unique_values\": 82,\n        \"samples\": [\n          \"Come on, message me i don't want to sleep alone...\\nSEX??ALERT\\n\\nText me back and we can meet. I would like to receive a lot of kisses! My sensitive skin is in need of touching. All that I need is love and sex. I\\u2019m waiting for your answer.\",\n          \"Hi James,\\n\\nHave you claim your complimentary gift yet?\\n\\nI've compiled in here a special astrology gift that predicts everything about you in the future?\\n\\nThis is your enabler to take the correct actions now.\\n\\n>> Click here to claim your copy now >>\\n\\nClaim yours now, and thank me later.\\n\\n\\nLove,\\nHeather\",\n          \"Sfhdg to iiiiiiuiiiiiiiiiiiii to\"\n        ],\n        \"semantic_type\": \"\",\n        \"description\": \"\"\n      }\n    },\n    {\n      \"column\": \"type\",\n      \"properties\": {\n        \"dtype\": \"category\",\n        \"num_unique_values\": 2,\n        \"samples\": [\n          \"not spam\",\n          \"spam\"\n        ],\n        \"semantic_type\": \"\",\n        \"description\": \"\"\n      }\n    }\n  ]\n}"
            }
          },
          "metadata": {},
          "execution_count": 3
        }
      ]
    },
    {
      "cell_type": "code",
      "source": [
        "dataset.shape"
      ],
      "metadata": {
        "id": "FglCIVFoTHsR",
        "outputId": "46a37fae-57b1-4181-e2cc-e31bccd921da",
        "colab": {
          "base_uri": "https://localhost:8080/"
        }
      },
      "execution_count": 4,
      "outputs": [
        {
          "output_type": "execute_result",
          "data": {
            "text/plain": [
              "(84, 3)"
            ]
          },
          "metadata": {},
          "execution_count": 4
        }
      ]
    },
    {
      "cell_type": "code",
      "source": [
        "dataset.info()"
      ],
      "metadata": {
        "id": "ABqZoO2ITN5p",
        "outputId": "055d4a43-045c-4e42-cc65-bfd9effaa5c9",
        "colab": {
          "base_uri": "https://localhost:8080/"
        }
      },
      "execution_count": 5,
      "outputs": [
        {
          "output_type": "stream",
          "name": "stdout",
          "text": [
            "<class 'pandas.core.frame.DataFrame'>\n",
            "RangeIndex: 84 entries, 0 to 83\n",
            "Data columns (total 3 columns):\n",
            " #   Column  Non-Null Count  Dtype \n",
            "---  ------  --------------  ----- \n",
            " 0   title   84 non-null     object\n",
            " 1   text    84 non-null     object\n",
            " 2   type    84 non-null     object\n",
            "dtypes: object(3)\n",
            "memory usage: 2.1+ KB\n"
          ]
        }
      ]
    },
    {
      "cell_type": "code",
      "source": [
        "import nltk\n",
        "nltk.download('stopwords')\n",
        "nltk.download('wordnet')"
      ],
      "metadata": {
        "id": "xkNmU7w3TUfr",
        "outputId": "fb729cfe-08bf-4712-ad6e-54aff3a91c70",
        "colab": {
          "base_uri": "https://localhost:8080/"
        }
      },
      "execution_count": 10,
      "outputs": [
        {
          "output_type": "stream",
          "name": "stderr",
          "text": [
            "[nltk_data] Downloading package stopwords to /root/nltk_data...\n",
            "[nltk_data]   Package stopwords is already up-to-date!\n",
            "[nltk_data] Downloading package wordnet to /root/nltk_data...\n"
          ]
        },
        {
          "output_type": "execute_result",
          "data": {
            "text/plain": [
              "True"
            ]
          },
          "metadata": {},
          "execution_count": 10
        }
      ]
    },
    {
      "cell_type": "code",
      "source": [
        "print(stopwords.words('english'))"
      ],
      "metadata": {
        "id": "Oe1-Om_cTfAe",
        "outputId": "127bdf25-890f-4f5a-c44d-9bc248eae9c0",
        "colab": {
          "base_uri": "https://localhost:8080/"
        }
      },
      "execution_count": 7,
      "outputs": [
        {
          "output_type": "stream",
          "name": "stdout",
          "text": [
            "['i', 'me', 'my', 'myself', 'we', 'our', 'ours', 'ourselves', 'you', \"you're\", \"you've\", \"you'll\", \"you'd\", 'your', 'yours', 'yourself', 'yourselves', 'he', 'him', 'his', 'himself', 'she', \"she's\", 'her', 'hers', 'herself', 'it', \"it's\", 'its', 'itself', 'they', 'them', 'their', 'theirs', 'themselves', 'what', 'which', 'who', 'whom', 'this', 'that', \"that'll\", 'these', 'those', 'am', 'is', 'are', 'was', 'were', 'be', 'been', 'being', 'have', 'has', 'had', 'having', 'do', 'does', 'did', 'doing', 'a', 'an', 'the', 'and', 'but', 'if', 'or', 'because', 'as', 'until', 'while', 'of', 'at', 'by', 'for', 'with', 'about', 'against', 'between', 'into', 'through', 'during', 'before', 'after', 'above', 'below', 'to', 'from', 'up', 'down', 'in', 'out', 'on', 'off', 'over', 'under', 'again', 'further', 'then', 'once', 'here', 'there', 'when', 'where', 'why', 'how', 'all', 'any', 'both', 'each', 'few', 'more', 'most', 'other', 'some', 'such', 'no', 'nor', 'not', 'only', 'own', 'same', 'so', 'than', 'too', 'very', 's', 't', 'can', 'will', 'just', 'don', \"don't\", 'should', \"should've\", 'now', 'd', 'll', 'm', 'o', 're', 've', 'y', 'ain', 'aren', \"aren't\", 'couldn', \"couldn't\", 'didn', \"didn't\", 'doesn', \"doesn't\", 'hadn', \"hadn't\", 'hasn', \"hasn't\", 'haven', \"haven't\", 'isn', \"isn't\", 'ma', 'mightn', \"mightn't\", 'mustn', \"mustn't\", 'needn', \"needn't\", 'shan', \"shan't\", 'shouldn', \"shouldn't\", 'wasn', \"wasn't\", 'weren', \"weren't\", 'won', \"won't\", 'wouldn', \"wouldn't\"]\n"
          ]
        }
      ]
    },
    {
      "cell_type": "code",
      "source": [
        "port_stem = PorterStemmer()\n",
        "lemmatizer = WordNetLemmatizer()"
      ],
      "metadata": {
        "id": "136G9-5LTrig"
      },
      "execution_count": 11,
      "outputs": []
    },
    {
      "cell_type": "code",
      "source": [
        "def stemming(content):\n",
        " stemmed_content = re.sub('[^a-zA-Z]',' ', content)\n",
        " stemmed_content = stemmed_content.lower()\n",
        " stemmed_content = stemmed_content.split()\n",
        " stemmed_content = [port_stem.stem(lemmatizer.lemmatize(word)) for word in stemmed_content if not word in stopwords.words('english')]\n",
        " stemmed_content = ' '.join(stemmed_content)\n",
        " return stemmed_content"
      ],
      "metadata": {
        "id": "AkqGgZZ1Tw2n"
      },
      "execution_count": 18,
      "outputs": []
    },
    {
      "cell_type": "code",
      "source": [
        "dataset['text'] = dataset['text'].apply(stemming)\n"
      ],
      "metadata": {
        "id": "8v_yQ4bDUSY8"
      },
      "execution_count": 19,
      "outputs": []
    },
    {
      "cell_type": "code",
      "source": [
        "print(dataset['text'])"
      ],
      "metadata": {
        "id": "EmrkIPdVUwGd",
        "outputId": "4b21b916-a820-410e-d1b5-441514b71b33",
        "colab": {
          "base_uri": "https://localhost:8080/"
        }
      },
      "execution_count": 21,
      "outputs": [
        {
          "output_type": "stream",
          "name": "stdout",
          "text": [
            "0     hi jame claim complimentari gift yet compil sp...\n",
            "1     alt text congratul earn complet follow offer v...\n",
            "2     github launch code mortyj octocat stand next r...\n",
            "3     hello thank contact virtual reward center virt...\n",
            "4     hey prachanda rawal today newslett jam pack ev...\n",
            "                            ...                        \n",
            "79    dear maryam would like thank applic role child...\n",
            "80    dear custom welcom kilimal thank much join u k...\n",
            "81    dear vladi ru steam guard code need login acco...\n",
            "82    view browser log skrill logo money mover maker...\n",
            "83    receiv gift sign bard explor india commun clic...\n",
            "Name: text, Length: 84, dtype: object\n"
          ]
        }
      ]
    },
    {
      "cell_type": "code",
      "source": [
        "vectorizer = TfidfVectorizer() #term frequency\n",
        "vectorizer.fit(dataset['text'])\n",
        "X = vectorizer.transform(dataset['text'])"
      ],
      "metadata": {
        "id": "WhQdtDh8VDJN"
      },
      "execution_count": 23,
      "outputs": []
    },
    {
      "cell_type": "code",
      "source": [
        "print(X)"
      ],
      "metadata": {
        "id": "1eTYuTHSVMWe",
        "outputId": "2bd25fc2-e399-47fe-c068-2df3ac24dc59",
        "colab": {
          "base_uri": "https://localhost:8080/"
        }
      },
      "execution_count": 24,
      "outputs": [
        {
          "output_type": "stream",
          "name": "stdout",
          "text": [
            "  (0, 23)\t0.1457179275623439\n",
            "  (0, 135)\t0.181026943714872\n",
            "  (0, 319)\t0.5937710596491537\n",
            "  (0, 328)\t0.10635985555356446\n",
            "  (0, 362)\t0.19792368654971787\n",
            "  (0, 364)\t0.19792368654971787\n",
            "  (0, 396)\t0.181026943714872\n",
            "  (0, 400)\t0.181026943714872\n",
            "  (0, 565)\t0.16903851388648705\n",
            "  (0, 608)\t0.181026943714872\n",
            "  (0, 719)\t0.1457179275623439\n",
            "  (0, 737)\t0.31947913056104127\n",
            "  (0, 799)\t0.19792368654971787\n",
            "  (0, 809)\t0.11683275489911307\n",
            "  (0, 933)\t0.181026943714872\n",
            "  (0, 1010)\t0.19792368654971787\n",
            "  (0, 1069)\t0.15973956528052063\n",
            "  (0, 1388)\t0.181026943714872\n",
            "  (0, 1711)\t0.1457179275623439\n",
            "  (0, 1808)\t0.11395764978244392\n",
            "  (0, 1837)\t0.08794758223588225\n",
            "  (0, 2055)\t0.16903851388648705\n",
            "  (1, 74)\t0.1666818275455534\n",
            "  (1, 266)\t0.1666818275455534\n",
            "  (1, 302)\t0.11389687036757305\n",
            "  :\t:\n",
            "  (83, 713)\t0.13898844632159027\n",
            "  (83, 737)\t0.44869726067574506\n",
            "  (83, 746)\t0.07813612480041385\n",
            "  (83, 842)\t0.12712300426435186\n",
            "  (83, 879)\t0.27797689264318054\n",
            "  (83, 900)\t0.13898844632159027\n",
            "  (83, 1043)\t0.07813612480041385\n",
            "  (83, 1138)\t0.23740867829572956\n",
            "  (83, 1260)\t0.10232786538161358\n",
            "  (83, 1294)\t0.33652294550680883\n",
            "  (83, 1363)\t0.11390304510347671\n",
            "  (83, 1416)\t0.10232786538161358\n",
            "  (83, 1429)\t0.11217431516893626\n",
            "  (83, 1433)\t0.08655478991690092\n",
            "  (83, 1456)\t0.09842023197413932\n",
            "  (83, 1458)\t0.11870433914786478\n",
            "  (83, 1478)\t0.10683889709062638\n",
            "  (83, 1488)\t0.07310713654640891\n",
            "  (83, 1499)\t0.27797689264318054\n",
            "  (83, 1608)\t0.0820437582078881\n",
            "  (83, 1659)\t0.08421243766263134\n",
            "  (83, 1791)\t0.08655478991690092\n",
            "  (83, 1872)\t0.094973455033388\n",
            "  (83, 1990)\t0.13898844632159027\n",
            "  (83, 1994)\t0.0918902079952108\n"
          ]
        }
      ]
    },
    {
      "cell_type": "code",
      "source": [
        "X[0].shape"
      ],
      "metadata": {
        "id": "QClPL6DBVeoc",
        "outputId": "4d838b0c-50bd-476c-84c5-eaf841762214",
        "colab": {
          "base_uri": "https://localhost:8080/"
        }
      },
      "execution_count": 26,
      "outputs": [
        {
          "output_type": "execute_result",
          "data": {
            "text/plain": [
              "(1, 2071)"
            ]
          },
          "metadata": {},
          "execution_count": 26
        }
      ]
    }
  ]
}